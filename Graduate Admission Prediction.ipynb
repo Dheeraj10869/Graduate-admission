{
 "cells": [
  {
   "cell_type": "markdown",
   "id": "3ae917fb",
   "metadata": {},
   "source": [
    "<h2 align='center'> Graduate Admission Prediction <h2>\n",
    "<BR>\n",
    "<BR>\n",
    "<BR>\n",
    "<img src='./Picture1.png'/>\n",
    "    \n",
    "<h3>Submitted By: Group 10<h3>\n",
    "<table align='left'>\n",
    "    <tr >\n",
    "        <td>Balasani Dheeraj Redddy</td>\n",
    "        <td>AM.EN.U4CSE20115</td>\n",
    "    </tr>\n",
    "    <tr>\n",
    "        <td>Vanguru Vekata Varun Kumar Reddy</td>\n",
    "        <td>AM.EN.U4CSE20172</td>\n",
    "    </tr>\n",
    "    <tr>\n",
    "        <td>Chinthakuntla Purushottam Reddy</td>\n",
    "        <td>AM.EN.U4CSE20120</td>\n",
    "    </tr>\n",
    "    <tr>\n",
    "        <td>S N V V S Gowtham Tadavarthy</td>\n",
    "        <td>AM.EN.U4CSE20160</td>\n",
    "    </tr>\n",
    "    <tr>\n",
    "        <td>Joshua Wilson Philip</td>\n",
    "        <td>AM.EN.U4CSE20135</td>\n",
    "    </tr>\n",
    "    <tr>\n",
    "        <td>Maddipati Umesh Chandra</td>\n",
    "        <td>AM.EN.U4CSE20142</td>\n",
    "    </tr>\n",
    "\n",
    "</table>\n"
   ]
  },
  {
   "cell_type": "markdown",
   "id": "46c233e7",
   "metadata": {},
   "source": [
    "# Import modules"
   ]
  },
  {
   "cell_type": "code",
   "execution_count": 75,
   "id": "98814b44",
   "metadata": {},
   "outputs": [],
   "source": [
    "import pandas as pd\n",
    "import numpy as np\n",
    "import matplotlib.pyplot as plt\n",
    "import seaborn as sns\n",
    "%matplotlib inline\n",
    "import warnings\n",
    "warnings.filterwarnings(\"ignore\")"
   ]
  },
  {
   "cell_type": "markdown",
   "id": "8cab6f1b",
   "metadata": {},
   "source": [
    "# Importing dataset"
   ]
  },
  {
   "cell_type": "code",
   "execution_count": 76,
   "id": "d567a0e4",
   "metadata": {},
   "outputs": [
    {
     "data": {
      "text/plain": [
       "(400, 9)"
      ]
     },
     "execution_count": 76,
     "metadata": {},
     "output_type": "execute_result"
    }
   ],
   "source": [
    "data = pd.read_csv(\"Admission_Predict.csv\")\n",
    "data.shape"
   ]
  },
  {
   "cell_type": "markdown",
   "id": "57074a14",
   "metadata": {},
   "source": [
    "# Data summarization"
   ]
  },
  {
   "cell_type": "code",
   "execution_count": 77,
   "id": "a0137472",
   "metadata": {},
   "outputs": [
    {
     "data": {
      "text/html": [
       "<div>\n",
       "<style scoped>\n",
       "    .dataframe tbody tr th:only-of-type {\n",
       "        vertical-align: middle;\n",
       "    }\n",
       "\n",
       "    .dataframe tbody tr th {\n",
       "        vertical-align: top;\n",
       "    }\n",
       "\n",
       "    .dataframe thead th {\n",
       "        text-align: right;\n",
       "    }\n",
       "</style>\n",
       "<table border=\"1\" class=\"dataframe\">\n",
       "  <thead>\n",
       "    <tr style=\"text-align: right;\">\n",
       "      <th></th>\n",
       "      <th>Serial No.</th>\n",
       "      <th>GRE Score</th>\n",
       "      <th>TOEFL Score</th>\n",
       "      <th>University Rating</th>\n",
       "      <th>SOP</th>\n",
       "      <th>LOR</th>\n",
       "      <th>CGPA</th>\n",
       "      <th>Research</th>\n",
       "      <th>Chance of Admit</th>\n",
       "    </tr>\n",
       "  </thead>\n",
       "  <tbody>\n",
       "    <tr>\n",
       "      <th>0</th>\n",
       "      <td>1</td>\n",
       "      <td>NaN</td>\n",
       "      <td>NaN</td>\n",
       "      <td>4</td>\n",
       "      <td>4.5</td>\n",
       "      <td>4.5</td>\n",
       "      <td>9.65</td>\n",
       "      <td>1</td>\n",
       "      <td>0.92</td>\n",
       "    </tr>\n",
       "    <tr>\n",
       "      <th>1</th>\n",
       "      <td>2</td>\n",
       "      <td>312.0</td>\n",
       "      <td>107.0</td>\n",
       "      <td>4</td>\n",
       "      <td>4.0</td>\n",
       "      <td>4.5</td>\n",
       "      <td>8.87</td>\n",
       "      <td>1</td>\n",
       "      <td>0.76</td>\n",
       "    </tr>\n",
       "  </tbody>\n",
       "</table>\n",
       "</div>"
      ],
      "text/plain": [
       "   Serial No.  GRE Score  TOEFL Score  University Rating  SOP  LOR   CGPA  \\\n",
       "0           1        NaN          NaN                  4  4.5   4.5  9.65   \n",
       "1           2      312.0        107.0                  4  4.0   4.5  8.87   \n",
       "\n",
       "   Research  Chance of Admit   \n",
       "0         1              0.92  \n",
       "1         1              0.76  "
      ]
     },
     "execution_count": 77,
     "metadata": {},
     "output_type": "execute_result"
    }
   ],
   "source": [
    "data.head(2)"
   ]
  },
  {
   "cell_type": "code",
   "execution_count": 78,
   "id": "538faabf",
   "metadata": {},
   "outputs": [
    {
     "name": "stdout",
     "output_type": "stream",
     "text": [
      "<class 'pandas.core.frame.DataFrame'>\n",
      "RangeIndex: 400 entries, 0 to 399\n",
      "Data columns (total 9 columns):\n",
      " #   Column             Non-Null Count  Dtype  \n",
      "---  ------             --------------  -----  \n",
      " 0   Serial No.         400 non-null    int64  \n",
      " 1   GRE Score          399 non-null    float64\n",
      " 2   TOEFL Score        399 non-null    float64\n",
      " 3   University Rating  400 non-null    int64  \n",
      " 4   SOP                400 non-null    float64\n",
      " 5   LOR                400 non-null    float64\n",
      " 6   CGPA               400 non-null    float64\n",
      " 7   Research           400 non-null    int64  \n",
      " 8   Chance of Admit    400 non-null    float64\n",
      "dtypes: float64(6), int64(3)\n",
      "memory usage: 28.2 KB\n"
     ]
    }
   ],
   "source": [
    "data.info()"
   ]
  },
  {
   "cell_type": "code",
   "execution_count": 79,
   "id": "15cd9d82",
   "metadata": {},
   "outputs": [
    {
     "data": {
      "text/html": [
       "<div>\n",
       "<style scoped>\n",
       "    .dataframe tbody tr th:only-of-type {\n",
       "        vertical-align: middle;\n",
       "    }\n",
       "\n",
       "    .dataframe tbody tr th {\n",
       "        vertical-align: top;\n",
       "    }\n",
       "\n",
       "    .dataframe thead th {\n",
       "        text-align: right;\n",
       "    }\n",
       "</style>\n",
       "<table border=\"1\" class=\"dataframe\">\n",
       "  <thead>\n",
       "    <tr style=\"text-align: right;\">\n",
       "      <th></th>\n",
       "      <th>Serial No.</th>\n",
       "      <th>GRE Score</th>\n",
       "      <th>TOEFL Score</th>\n",
       "      <th>University Rating</th>\n",
       "      <th>SOP</th>\n",
       "      <th>LOR</th>\n",
       "      <th>CGPA</th>\n",
       "      <th>Research</th>\n",
       "      <th>Chance of Admit</th>\n",
       "    </tr>\n",
       "  </thead>\n",
       "  <tbody>\n",
       "    <tr>\n",
       "      <th>count</th>\n",
       "      <td>400.000000</td>\n",
       "      <td>399.000000</td>\n",
       "      <td>399.000000</td>\n",
       "      <td>400.000000</td>\n",
       "      <td>400.000000</td>\n",
       "      <td>400.000000</td>\n",
       "      <td>400.000000</td>\n",
       "      <td>400.000000</td>\n",
       "      <td>400.000000</td>\n",
       "    </tr>\n",
       "    <tr>\n",
       "      <th>mean</th>\n",
       "      <td>200.500000</td>\n",
       "      <td>316.619048</td>\n",
       "      <td>107.383459</td>\n",
       "      <td>3.087500</td>\n",
       "      <td>3.400000</td>\n",
       "      <td>3.452500</td>\n",
       "      <td>8.598925</td>\n",
       "      <td>0.547500</td>\n",
       "      <td>0.724350</td>\n",
       "    </tr>\n",
       "    <tr>\n",
       "      <th>std</th>\n",
       "      <td>115.614301</td>\n",
       "      <td>11.391182</td>\n",
       "      <td>6.053848</td>\n",
       "      <td>1.143728</td>\n",
       "      <td>1.006869</td>\n",
       "      <td>0.898478</td>\n",
       "      <td>0.597325</td>\n",
       "      <td>0.498362</td>\n",
       "      <td>0.142609</td>\n",
       "    </tr>\n",
       "    <tr>\n",
       "      <th>min</th>\n",
       "      <td>1.000000</td>\n",
       "      <td>290.000000</td>\n",
       "      <td>92.000000</td>\n",
       "      <td>1.000000</td>\n",
       "      <td>1.000000</td>\n",
       "      <td>1.000000</td>\n",
       "      <td>6.800000</td>\n",
       "      <td>0.000000</td>\n",
       "      <td>0.340000</td>\n",
       "    </tr>\n",
       "    <tr>\n",
       "      <th>25%</th>\n",
       "      <td>100.750000</td>\n",
       "      <td>308.000000</td>\n",
       "      <td>103.000000</td>\n",
       "      <td>2.000000</td>\n",
       "      <td>2.500000</td>\n",
       "      <td>3.000000</td>\n",
       "      <td>8.167500</td>\n",
       "      <td>0.000000</td>\n",
       "      <td>0.640000</td>\n",
       "    </tr>\n",
       "    <tr>\n",
       "      <th>50%</th>\n",
       "      <td>200.500000</td>\n",
       "      <td>317.000000</td>\n",
       "      <td>107.000000</td>\n",
       "      <td>3.000000</td>\n",
       "      <td>3.500000</td>\n",
       "      <td>3.500000</td>\n",
       "      <td>8.610000</td>\n",
       "      <td>1.000000</td>\n",
       "      <td>0.730000</td>\n",
       "    </tr>\n",
       "    <tr>\n",
       "      <th>75%</th>\n",
       "      <td>300.250000</td>\n",
       "      <td>325.000000</td>\n",
       "      <td>112.000000</td>\n",
       "      <td>4.000000</td>\n",
       "      <td>4.000000</td>\n",
       "      <td>4.000000</td>\n",
       "      <td>9.072500</td>\n",
       "      <td>1.000000</td>\n",
       "      <td>0.830000</td>\n",
       "    </tr>\n",
       "    <tr>\n",
       "      <th>max</th>\n",
       "      <td>400.000000</td>\n",
       "      <td>340.000000</td>\n",
       "      <td>120.000000</td>\n",
       "      <td>5.000000</td>\n",
       "      <td>5.000000</td>\n",
       "      <td>5.000000</td>\n",
       "      <td>9.920000</td>\n",
       "      <td>1.000000</td>\n",
       "      <td>0.970000</td>\n",
       "    </tr>\n",
       "  </tbody>\n",
       "</table>\n",
       "</div>"
      ],
      "text/plain": [
       "       Serial No.   GRE Score  TOEFL Score  University Rating         SOP  \\\n",
       "count  400.000000  399.000000   399.000000         400.000000  400.000000   \n",
       "mean   200.500000  316.619048   107.383459           3.087500    3.400000   \n",
       "std    115.614301   11.391182     6.053848           1.143728    1.006869   \n",
       "min      1.000000  290.000000    92.000000           1.000000    1.000000   \n",
       "25%    100.750000  308.000000   103.000000           2.000000    2.500000   \n",
       "50%    200.500000  317.000000   107.000000           3.000000    3.500000   \n",
       "75%    300.250000  325.000000   112.000000           4.000000    4.000000   \n",
       "max    400.000000  340.000000   120.000000           5.000000    5.000000   \n",
       "\n",
       "             LOR         CGPA    Research  Chance of Admit   \n",
       "count  400.000000  400.000000  400.000000        400.000000  \n",
       "mean     3.452500    8.598925    0.547500          0.724350  \n",
       "std      0.898478    0.597325    0.498362          0.142609  \n",
       "min      1.000000    6.800000    0.000000          0.340000  \n",
       "25%      3.000000    8.167500    0.000000          0.640000  \n",
       "50%      3.500000    8.610000    1.000000          0.730000  \n",
       "75%      4.000000    9.072500    1.000000          0.830000  \n",
       "max      5.000000    9.920000    1.000000          0.970000  "
      ]
     },
     "execution_count": 79,
     "metadata": {},
     "output_type": "execute_result"
    }
   ],
   "source": [
    "data.describe()"
   ]
  },
  {
   "cell_type": "code",
   "execution_count": 80,
   "id": "3b3be5ec",
   "metadata": {},
   "outputs": [
    {
     "data": {
      "text/plain": [
       "Serial No.           0\n",
       "GRE Score            1\n",
       "TOEFL Score          1\n",
       "University Rating    0\n",
       "SOP                  0\n",
       "LOR                  0\n",
       "CGPA                 0\n",
       "Research             0\n",
       "Chance of Admit      0\n",
       "dtype: int64"
      ]
     },
     "execution_count": 80,
     "metadata": {},
     "output_type": "execute_result"
    }
   ],
   "source": [
    "data.isnull().sum()"
   ]
  },
  {
   "cell_type": "markdown",
   "id": "badd659b",
   "metadata": {},
   "source": [
    "# Data Pre-processing\n"
   ]
  },
  {
   "cell_type": "code",
   "execution_count": 81,
   "id": "e9163faf",
   "metadata": {},
   "outputs": [],
   "source": [
    "data.drop('Serial No.', axis=1, inplace=True)"
   ]
  },
  {
   "cell_type": "code",
   "execution_count": 82,
   "id": "57a4626c",
   "metadata": {},
   "outputs": [],
   "source": [
    "data.rename({'Chance of Admit ': 'Chance of Admit', 'LOR ':'LOR'}, axis=1, inplace=True)"
   ]
  },
  {
   "cell_type": "code",
   "execution_count": 83,
   "id": "d34b8dba",
   "metadata": {},
   "outputs": [],
   "source": [
    "X = data.iloc[:,:-1].values \n",
    "Y = data.iloc[:,7:].values  "
   ]
  },
  {
   "cell_type": "code",
   "execution_count": 84,
   "id": "f3e27029",
   "metadata": {},
   "outputs": [
    {
     "name": "stdout",
     "output_type": "stream",
     "text": [
      "[[   nan    nan   4.   ...   4.5    9.65   1.  ]\n",
      " [312.   107.     4.   ...   4.5    8.87   1.  ]\n",
      " [316.   104.     3.   ...   3.5    8.     1.  ]\n",
      " ...\n",
      " [330.   116.     4.   ...   4.5    9.45   1.  ]\n",
      " [312.   103.     3.   ...   4.     8.78   0.  ]\n",
      " [321.   117.     4.   ...   4.     9.66   1.  ]]\n"
     ]
    }
   ],
   "source": [
    "print(X[:,:])"
   ]
  },
  {
   "cell_type": "markdown",
   "id": "741d3820",
   "metadata": {},
   "source": [
    "# Filling misssing values with mode"
   ]
  },
  {
   "cell_type": "code",
   "execution_count": 85,
   "id": "771cc730",
   "metadata": {},
   "outputs": [
    {
     "name": "stdout",
     "output_type": "stream",
     "text": [
      "[312. 110.   4.]\n"
     ]
    }
   ],
   "source": [
    "from sklearn.impute import SimpleImputer\n",
    "imputer = SimpleImputer(strategy='most_frequent')\n",
    "imputer.fit(X[:, :3])\n",
    "X[:, :3]= imputer.transform(X[:,:3]) \n",
    "print(X[0, :3])"
   ]
  },
  {
   "cell_type": "markdown",
   "id": "654803e3",
   "metadata": {},
   "source": [
    "# Data Visualization "
   ]
  },
  {
   "cell_type": "code",
   "execution_count": 86,
   "id": "efcf0b1a",
   "metadata": {},
   "outputs": [
    {
     "data": {
      "text/plain": [
       "array([[<AxesSubplot:title={'center':'GRE Score'}>,\n",
       "        <AxesSubplot:title={'center':'TOEFL Score'}>,\n",
       "        <AxesSubplot:title={'center':'University Rating'}>],\n",
       "       [<AxesSubplot:title={'center':'SOP'}>,\n",
       "        <AxesSubplot:title={'center':'LOR'}>,\n",
       "        <AxesSubplot:title={'center':'CGPA'}>],\n",
       "       [<AxesSubplot:title={'center':'Research'}>,\n",
       "        <AxesSubplot:title={'center':'Chance of Admit'}>, <AxesSubplot:>]],\n",
       "      dtype=object)"
      ]
     },
     "execution_count": 86,
     "metadata": {},
     "output_type": "execute_result"
    },
    {
     "data": {
      "image/png": "[encoded data removed]",
      "text/plain": [
       "<Figure size 432x288 with 9 Axes>"
      ]
     },
     "metadata": {
      "needs_background": "light"
     },
     "output_type": "display_data"
    }
   ],
   "source": [
    "import matplotlib.pyplot as plt\n",
    "data.hist()"
   ]
  },
  {
   "cell_type": "code",
   "execution_count": 87,
   "id": "28baacfa",
   "metadata": {},
   "outputs": [
    {
     "data": {
      "text/html": [
       "<div>\n",
       "<style scoped>\n",
       "    .dataframe tbody tr th:only-of-type {\n",
       "        vertical-align: middle;\n",
       "    }\n",
       "\n",
       "    .dataframe tbody tr th {\n",
       "        vertical-align: top;\n",
       "    }\n",
       "\n",
       "    .dataframe thead th {\n",
       "        text-align: right;\n",
       "    }\n",
       "</style>\n",
       "<table border=\"1\" class=\"dataframe\">\n",
       "  <thead>\n",
       "    <tr style=\"text-align: right;\">\n",
       "      <th></th>\n",
       "      <th>GRE Score</th>\n",
       "    </tr>\n",
       "  </thead>\n",
       "  <tbody>\n",
       "    <tr>\n",
       "      <th>count</th>\n",
       "      <td>399.000000</td>\n",
       "    </tr>\n",
       "    <tr>\n",
       "      <th>mean</th>\n",
       "      <td>316.619048</td>\n",
       "    </tr>\n",
       "    <tr>\n",
       "      <th>std</th>\n",
       "      <td>11.391182</td>\n",
       "    </tr>\n",
       "    <tr>\n",
       "      <th>min</th>\n",
       "      <td>290.000000</td>\n",
       "    </tr>\n",
       "    <tr>\n",
       "      <th>25%</th>\n",
       "      <td>308.000000</td>\n",
       "    </tr>\n",
       "    <tr>\n",
       "      <th>50%</th>\n",
       "      <td>317.000000</td>\n",
       "    </tr>\n",
       "    <tr>\n",
       "      <th>75%</th>\n",
       "      <td>325.000000</td>\n",
       "    </tr>\n",
       "    <tr>\n",
       "      <th>max</th>\n",
       "      <td>340.000000</td>\n",
       "    </tr>\n",
       "  </tbody>\n",
       "</table>\n",
       "</div>"
      ],
      "text/plain": [
       "        GRE Score\n",
       "count  399.000000\n",
       "mean   316.619048\n",
       "std     11.391182\n",
       "min    290.000000\n",
       "25%    308.000000\n",
       "50%    317.000000\n",
       "75%    325.000000\n",
       "max    340.000000"
      ]
     },
     "execution_count": 87,
     "metadata": {},
     "output_type": "execute_result"
    }
   ],
   "source": [
    "GRE = pd.DataFrame(data['GRE Score'])\n",
    "GRE.describe()"
   ]
  },
  {
   "cell_type": "code",
   "execution_count": 88,
   "id": "0ffe73ef",
   "metadata": {},
   "outputs": [
    {
     "data": {
      "image/png": "[encoded data removed]",
      "text/plain": [
       "<Figure size 432x288 with 1 Axes>"
      ]
     },
     "metadata": {
      "needs_background": "light"
     },
     "output_type": "display_data"
    }
   ],
   "source": [
    "plt.bar(X[:,5], Y[:,0],color = \"pink\")\n",
    "plt.title(\"CGPA VS Chance of Admission\")\n",
    "plt.xlabel(\"CGPA\")\n",
    "plt.ylabel(\"Chance of Admission\")\n",
    "plt.show()"
   ]
  },
  {
   "cell_type": "code",
   "execution_count": 89,
   "id": "199b133c",
   "metadata": {},
   "outputs": [
    {
     "name": "stdout",
     "output_type": "stream",
     "text": [
      "[[312.   110.     4.   ...   4.5    9.65   1.  ]\n",
      " [312.   107.     4.   ...   4.5    8.87   1.  ]\n",
      " [316.   104.     3.   ...   3.5    8.     1.  ]\n",
      " ...\n",
      " [330.   116.     4.   ...   4.5    9.45   1.  ]\n",
      " [312.   103.     3.   ...   4.     8.78   0.  ]\n",
      " [321.   117.     4.   ...   4.     9.66   1.  ]]\n"
     ]
    }
   ],
   "source": [
    "print(X)"
   ]
  },
  {
   "cell_type": "code",
   "execution_count": 90,
   "id": "c3b420ac",
   "metadata": {},
   "outputs": [
    {
     "data": {
      "image/png": "[encoded data removed]",
      "text/plain": [
       "<Figure size 432x288 with 1 Axes>"
      ]
     },
     "metadata": {
      "needs_background": "light"
     },
     "output_type": "display_data"
    }
   ],
   "source": [
    "plt.scatter(X[:,0], Y)\n",
    "plt.title(\"GRE VS Chance of Admission\")\n",
    "plt.xlabel(\"GRE\")\n",
    "plt.ylabel(\"Chance of Admission\")\n",
    "plt.show()"
   ]
  },
  {
   "cell_type": "code",
   "execution_count": 91,
   "id": "f4cf3518",
   "metadata": {},
   "outputs": [
    {
     "data": {
      "image/png": "[encoded data removed]",
      "text/plain": [
       "<Figure size 432x288 with 1 Axes>"
      ]
     },
     "metadata": {
      "needs_background": "light"
     },
     "output_type": "display_data"
    }
   ],
   "source": [
    "plt.scatter(X[:,1], Y)\n",
    "plt.title(\"TOFEL VS Chance of Admission\")\n",
    "plt.xlabel(\"TOFEL\")\n",
    "plt.ylabel(\"Chance of Admission\")\n",
    "plt.show()"
   ]
  },
  {
   "cell_type": "code",
   "execution_count": 92,
   "id": "d753fc70",
   "metadata": {},
   "outputs": [
    {
     "data": {
      "image/png": "[encoded data removed]",
      "text/plain": [
       "<Figure size 432x288 with 1 Axes>"
      ]
     },
     "metadata": {
      "needs_background": "light"
     },
     "output_type": "display_data"
    }
   ],
   "source": [
    "plt.boxplot(X[:,:])\n",
    "plt.title('Ranges of coloumns',fontsize=15)\n",
    "plt.xlabel(\"coloumns\")\n",
    "plt.ylabel(\"ranges after standardization\")\n",
    "plt.show()"
   ]
  },
  {
   "cell_type": "code",
   "execution_count": 93,
   "id": "11834000",
   "metadata": {},
   "outputs": [
    {
     "data": {
      "image/png": "[encoded data removed]",
      "text/plain": [
       "<Figure size 432x288 with 1 Axes>"
      ]
     },
     "metadata": {},
     "output_type": "display_data"
    }
   ],
   "source": [
    "data['Research'].value_counts().plot(kind='pie',textprops={'color':'black'},autopct='%.2f',cmap='cool')\n",
    "plt.title('No of students done research',fontsize=15)\n",
    "plt.legend(['RESEARCH','NO RESEARCH'])\n",
    "plt.show()"
   ]
  },
  {
   "cell_type": "code",
   "execution_count": 94,
   "id": "39331a58",
   "metadata": {},
   "outputs": [
    {
     "data": {
      "image/png": "[encoded data removed]",
      "text/plain": [
       "<Figure size 432x288 with 1 Axes>"
      ]
     },
     "metadata": {
      "needs_background": "light"
     },
     "output_type": "display_data"
    }
   ],
   "source": [
    "LOR = pd.DataFrame(data.groupby(['LOR']).count()['GRE Score'])\n",
    "LOR.rename({'GRE Score':'Count'}, axis=1, inplace=True)\n",
    "sns.barplot(x = LOR.index, y = LOR['Count']).set_title('Letter of Recommendation', size='20')\n",
    "plt.show()"
   ]
  },
  {
   "cell_type": "markdown",
   "id": "b9e6e4f4",
   "metadata": {},
   "source": [
    "# standardization"
   ]
  },
  {
   "cell_type": "code",
   "execution_count": 95,
   "id": "12548321",
   "metadata": {},
   "outputs": [],
   "source": [
    "from sklearn.preprocessing import StandardScaler  \n",
    "st_x= StandardScaler()  \n",
    "X[:,:3]= st_x.fit_transform(X[:,:3])  "
   ]
  },
  {
   "cell_type": "markdown",
   "id": "e289fb36",
   "metadata": {},
   "source": [
    "# MinMax Scaler"
   ]
  },
  {
   "cell_type": "code",
   "execution_count": 96,
   "id": "53106043",
   "metadata": {},
   "outputs": [
    {
     "name": "stdout",
     "output_type": "stream",
     "text": [
      "[[0.44       0.64285714 0.75      ]\n",
      " [0.44       0.53571429 0.75      ]\n",
      " [0.52       0.42857143 0.5       ]\n",
      " ...\n",
      " [0.8        0.85714286 0.75      ]\n",
      " [0.44       0.39285714 0.5       ]\n",
      " [0.62       0.89285714 0.75      ]]\n"
     ]
    }
   ],
   "source": [
    "from sklearn.preprocessing import MinMaxScaler\n",
    "scaler = MinMaxScaler(feature_range=(0, 1))\n",
    "X[:,0:3]= scaler.fit_transform(X[:,0:3])\n",
    "print(X[:,0:3])"
   ]
  },
  {
   "cell_type": "code",
   "execution_count": 97,
   "id": "ef2c17f9",
   "metadata": {},
   "outputs": [
    {
     "data": {
      "image/png": "[encoded data removed]",
      "text/plain": [
       "<Figure size 432x288 with 1 Axes>"
      ]
     },
     "metadata": {
      "needs_background": "light"
     },
     "output_type": "display_data"
    }
   ],
   "source": [
    "plt.boxplot(X[:,:])\n",
    "plt.title('Ranges of coloumns',fontsize=15)\n",
    "plt.xlabel(\"coloumns\")\n",
    "plt.ylabel(\"ranges after standardization\")\n",
    "plt.show()"
   ]
  },
  {
   "cell_type": "markdown",
   "id": "b4374835",
   "metadata": {},
   "source": [
    "# Saving processed dataset"
   ]
  },
  {
   "cell_type": "code",
   "execution_count": 98,
   "id": "b0e7822e",
   "metadata": {},
   "outputs": [
    {
     "name": "stdout",
     "output_type": "stream",
     "text": [
      "GRE Score            0\n",
      "TOEFL Score          0\n",
      "University Rating    0\n",
      "SOP                  0\n",
      "LOR                  0\n",
      "CGPA                 0\n",
      "Research             0\n",
      "Chance of Admit      0\n",
      "dtype: int64\n"
     ]
    }
   ],
   "source": [
    "arr = np.append(X, Y, axis=1)\n",
    "col = ['GRE Score','TOEFL Score','University Rating','SOP','LOR','CGPA','Research','Chance of Admit ']\n",
    "newdf = pd.DataFrame(arr, columns=col)\n",
    "print(newdf.isnull().sum())\n",
    "newdf.to_csv('cleaned.csv')"
   ]
  },
  {
   "cell_type": "code",
   "execution_count": 99,
   "id": "54039fe5",
   "metadata": {},
   "outputs": [],
   "source": [
    "Y_1=[1 if each > 0.82 else 0 for each in Y]\n",
    "Y = np.array(Y_1)"
   ]
  },
  {
   "cell_type": "markdown",
   "id": "8d68b426",
   "metadata": {},
   "source": [
    "# Splitting Data into Train and Test"
   ]
  },
  {
   "cell_type": "code",
   "execution_count": 100,
   "id": "e5969232",
   "metadata": {},
   "outputs": [],
   "source": [
    "from sklearn.model_selection import train_test_split\n",
    "x_train, x_test, y_train, y_test= train_test_split(X, Y, test_size= 0.2, random_state=0) \n"
   ]
  },
  {
   "cell_type": "markdown",
   "id": "69a7633e",
   "metadata": {},
   "source": [
    "<h1> Testing the following algorithms </h1>\n",
    "<ul>\n",
    "    <li>\n",
    "        <h3>Logistic Regression</h3>\n",
    "        <p>Logistic regression is a statistical model that in its basic form uses a logistic function to model a binary dependent variable, although many more complex extensions exist. In regression analysis, logistic regression (or logit regression) is estimating the parameters of a logistic model (a form of binary regression).</p>\n",
    "    </li>\n",
    "    <li>\n",
    "        <h3>Random Forest</h3>\n",
    "        <p>Random forest is a supervised learning algorithm. The \"forest\" it builds, is an ensemble of decision trees, usually trained with the “bagging” method. The general idea of the bagging method is that a combination of learning models increases the overall result. Random forest is a meta estimator that fits a number of classifying decision trees on various sub-samples of the dataset and uses averaging to improve the predictive accuracy and control over-fitting.</p>\n",
    "    </li>\n",
    "    <li>\n",
    "        <h3>Gaussian Navie Bayes</h3>\n",
    "        <p>Naive Bayes classifiers are a family of simple \"probabilistic classifiers\" based on applying Bayes' theorem with strong (naive) independence assumptions between the features. They are among the simplest Bayesian network models, but coupled with kernel density estimation, they can achieve higher accuracy levels. Naive Bayes classifiers are highly scalable, requiring a number of parameters linear in the number of variables (features/predictors) in a learning problem.</p>\n",
    "    </li>\n",
    "    <li>\n",
    "        <h3>Support Vector Classifiers(SVCs)</h3>\n",
    "        <p>Support vector machines (SVMs, also support vector networks) are supervised learning models with associated learning algorithms that analyze data used for classification and regression analysis. Given a set of training samples, each marked as belonging to one or the other of two categories, an SVM training algorithm builds a model that assigns new test samples to one category or the other, making it a non-probabilistic binary linear classifier (although methods such as Platt scaling exist to use SVM in a probabilistic classification setting).</p>\n",
    "    </li>\n",
    "    <li>\n",
    "        <h3>K-nearest Neighnours(KNN)</h3>\n",
    "        <p>In pattern recognition, the k-nearest neighbors algorithm (k-NN) is a non-parametric method used for classification and regression. In both cases, the input consists of the k closest training examples in the feature space. The output depends on whether k-NN is used for classification or regression:</p>\n",
    "        <ul>\n",
    "            <li>In k-NN classification, the output is a class membership. An object is classified by a majority vote of its neighbors, with the object being assigned to the class most common among its k nearest neighbors (k is a positive integer, typically small). If k = 1, then the object is simply assigned to the class of that single nearest neighbor.</li>\n",
    "            <li>In k-NN regression, the output is the property value for the object. This value is the average of the values of its k nearest neighbors.</li>\n",
    "        </ul>\n",
    "    </li>\n",
    "    \n",
    "</ul>"
   ]
  },
  {
   "cell_type": "markdown",
   "id": "4a3aadea",
   "metadata": {},
   "source": [
    "# LogisticRegression"
   ]
  },
  {
   "cell_type": "code",
   "execution_count": 101,
   "id": "aa3522c2",
   "metadata": {},
   "outputs": [
    {
     "data": {
      "text/html": [
       "<style>#sk-container-id-2 {color: black;background-color: white;}#sk-container-id-2 pre{padding: 0;}#sk-container-id-2 div.sk-toggleable {background-color: white;}#sk-container-id-2 label.sk-toggleable__label {cursor: pointer;display: block;width: 100%;margin-bottom: 0;padding: 0.3em;box-sizing: border-box;text-align: center;}#sk-container-id-2 label.sk-toggleable__label-arrow:before {content: \"▸\";float: left;margin-right: 0.25em;color: #696969;}#sk-container-id-2 label.sk-toggleable__label-arrow:hover:before {color: black;}#sk-container-id-2 div.sk-estimator:hover label.sk-toggleable__label-arrow:before {color: black;}#sk-container-id-2 div.sk-toggleable__content {max-height: 0;max-width: 0;overflow: hidden;text-align: left;background-color: #f0f8ff;}#sk-container-id-2 div.sk-toggleable__content pre {margin: 0.2em;color: black;border-radius: 0.25em;background-color: #f0f8ff;}#sk-container-id-2 input.sk-toggleable__control:checked~div.sk-toggleable__content {max-height: 200px;max-width: 100%;overflow: auto;}#sk-container-id-2 input.sk-toggleable__control:checked~label.sk-toggleable__label-arrow:before {content: \"▾\";}#sk-container-id-2 div.sk-estimator input.sk-toggleable__control:checked~label.sk-toggleable__label {background-color: #d4ebff;}#sk-container-id-2 div.sk-label input.sk-toggleable__control:checked~label.sk-toggleable__label {background-color: #d4ebff;}#sk-container-id-2 input.sk-hidden--visually {border: 0;clip: rect(1px 1px 1px 1px);clip: rect(1px, 1px, 1px, 1px);height: 1px;margin: -1px;overflow: hidden;padding: 0;position: absolute;width: 1px;}#sk-container-id-2 div.sk-estimator {font-family: monospace;background-color: #f0f8ff;border: 1px dotted black;border-radius: 0.25em;box-sizing: border-box;margin-bottom: 0.5em;}#sk-container-id-2 div.sk-estimator:hover {background-color: #d4ebff;}#sk-container-id-2 div.sk-parallel-item::after {content: \"\";width: 100%;border-bottom: 1px solid gray;flex-grow: 1;}#sk-container-id-2 div.sk-label:hover label.sk-toggleable__label {background-color: #d4ebff;}#sk-container-id-2 div.sk-serial::before {content: \"\";position: absolute;border-left: 1px solid gray;box-sizing: border-box;top: 0;bottom: 0;left: 50%;z-index: 0;}#sk-container-id-2 div.sk-serial {display: flex;flex-direction: column;align-items: center;background-color: white;padding-right: 0.2em;padding-left: 0.2em;position: relative;}#sk-container-id-2 div.sk-item {position: relative;z-index: 1;}#sk-container-id-2 div.sk-parallel {display: flex;align-items: stretch;justify-content: center;background-color: white;position: relative;}#sk-container-id-2 div.sk-item::before, #sk-container-id-2 div.sk-parallel-item::before {content: \"\";position: absolute;border-left: 1px solid gray;box-sizing: border-box;top: 0;bottom: 0;left: 50%;z-index: -1;}#sk-container-id-2 div.sk-parallel-item {display: flex;flex-direction: column;z-index: 1;position: relative;background-color: white;}#sk-container-id-2 div.sk-parallel-item:first-child::after {align-self: flex-end;width: 50%;}#sk-container-id-2 div.sk-parallel-item:last-child::after {align-self: flex-start;width: 50%;}#sk-container-id-2 div.sk-parallel-item:only-child::after {width: 0;}#sk-container-id-2 div.sk-dashed-wrapped {border: 1px dashed gray;margin: 0 0.4em 0.5em 0.4em;box-sizing: border-box;padding-bottom: 0.4em;background-color: white;}#sk-container-id-2 div.sk-label label {font-family: monospace;font-weight: bold;display: inline-block;line-height: 1.2em;}#sk-container-id-2 div.sk-label-container {text-align: center;}#sk-container-id-2 div.sk-container {/* jupyter's `normalize.less` sets `[hidden] { display: none; }` but bootstrap.min.css set `[hidden] { display: none !important; }` so we also need the `!important` here to be able to override the default hidden behavior on the sphinx rendered scikit-learn.org. See: https://github.com/scikit-learn/scikit-learn/issues/21755 */display: inline-block !important;position: relative;}#sk-container-id-2 div.sk-text-repr-fallback {display: none;}</style><div id=\"sk-container-id-2\" class=\"sk-top-container\"><div class=\"sk-text-repr-fallback\"><pre>LogisticRegression()</pre><b>In a Jupyter environment, please rerun this cell to show the HTML representation or trust the notebook. <br />On GitHub, the HTML representation is unable to render, please try loading this page with nbviewer.org.</b></div><div class=\"sk-container\" hidden><div class=\"sk-item\"><div class=\"sk-estimator sk-toggleable\"><input class=\"sk-toggleable__control sk-hidden--visually\" id=\"sk-estimator-id-2\" type=\"checkbox\" checked><label for=\"sk-estimator-id-2\" class=\"sk-toggleable__label sk-toggleable__label-arrow\">LogisticRegression</label><div class=\"sk-toggleable__content\"><pre>LogisticRegression()</pre></div></div></div></div></div>"
      ],
      "text/plain": [
       "LogisticRegression()"
      ]
     },
     "execution_count": 101,
     "metadata": {},
     "output_type": "execute_result"
    }
   ],
   "source": [
    "from sklearn.linear_model import LogisticRegression\n",
    "classifier= LogisticRegression()\n",
    "classifier.fit(x_train, y_train)"
   ]
  },
  {
   "cell_type": "code",
   "execution_count": 102,
   "id": "42026ef5",
   "metadata": {},
   "outputs": [],
   "source": [
    "y_logistic_pred= classifier.predict(x_test)"
   ]
  },
  {
   "cell_type": "code",
   "execution_count": 103,
   "id": "041b7806",
   "metadata": {},
   "outputs": [
    {
     "name": "stdout",
     "output_type": "stream",
     "text": [
      "Train Score:  0.940625\n",
      "Test Score:  0.9375\n"
     ]
    }
   ],
   "source": [
    "print('Train Score: ', classifier.score(x_train, y_train))  \n",
    "print('Test Score: ', classifier.score(x_test, y_test))  "
   ]
  },
  {
   "cell_type": "code",
   "execution_count": 104,
   "id": "6f107b7f",
   "metadata": {},
   "outputs": [
    {
     "name": "stdout",
     "output_type": "stream",
     "text": [
      "[[60  1]\n",
      " [ 4 15]]\n"
     ]
    }
   ],
   "source": [
    "from sklearn.metrics import confusion_matrix\n",
    "\n",
    "print(confusion_matrix(y_test, y_logistic_pred))"
   ]
  },
  {
   "cell_type": "code",
   "execution_count": 105,
   "id": "62d0f3ef",
   "metadata": {},
   "outputs": [
    {
     "name": "stdout",
     "output_type": "stream",
     "text": [
      "precision_score:  0.9375\n",
      "recall_score:  0.7894736842105263\n",
      "f1_score:  0.8571428571428572\n"
     ]
    }
   ],
   "source": [
    "from sklearn.metrics import precision_score, recall_score\n",
    "print(\"precision_score: \", precision_score(y_test, y_logistic_pred))\n",
    "print(\"recall_score: \", recall_score(y_test, y_logistic_pred))\n",
    "\n",
    "from sklearn.metrics import f1_score\n",
    "print(\"f1_score: \",f1_score(y_test, y_logistic_pred))"
   ]
  },
  {
   "cell_type": "markdown",
   "id": "f65a8dda",
   "metadata": {},
   "source": [
    "# ROC curve of logistic regression"
   ]
  },
  {
   "cell_type": "code",
   "execution_count": 106,
   "id": "9682ac3d",
   "metadata": {},
   "outputs": [
    {
     "data": {
      "image/png": "[encoded data removed]",
      "text/plain": [
       "<Figure size 432x288 with 1 Axes>"
      ]
     },
     "metadata": {
      "needs_background": "light"
     },
     "output_type": "display_data"
    }
   ],
   "source": [
    "from sklearn import metrics\n",
    "metrics.plot_roc_curve(classifier, x_test, y_test)\n",
    "plt.show()"
   ]
  },
  {
   "cell_type": "markdown",
   "id": "14f10f8c",
   "metadata": {},
   "source": [
    "# SVC"
   ]
  },
  {
   "cell_type": "code",
   "execution_count": 107,
   "id": "9eccebcb",
   "metadata": {},
   "outputs": [
    {
     "name": "stdout",
     "output_type": "stream",
     "text": [
      "score:  0.9375\n"
     ]
    }
   ],
   "source": [
    "from sklearn.svm import SVC\n",
    "svm = SVC(random_state = 1)\n",
    "svm.fit(x_train,y_train)\n",
    "y_pred_svm = svm.predict(x_test)\n",
    "print(\"score: \", svm.score(x_test,y_test))"
   ]
  },
  {
   "cell_type": "code",
   "execution_count": 108,
   "id": "2b445708",
   "metadata": {},
   "outputs": [
    {
     "name": "stdout",
     "output_type": "stream",
     "text": [
      "precision_score:  0.9375\n",
      "recall_score:  0.7894736842105263\n",
      "f1_score:  0.8571428571428572\n"
     ]
    }
   ],
   "source": [
    "from sklearn.metrics import precision_score, recall_score\n",
    "print(\"precision_score: \", precision_score(y_test, y_pred_svm))\n",
    "print(\"recall_score: \", recall_score(y_test, y_pred_svm))\n",
    "\n",
    "from sklearn.metrics import f1_score\n",
    "print(\"f1_score: \",f1_score(y_test, y_pred_svm))"
   ]
  },
  {
   "cell_type": "code",
   "execution_count": 109,
   "id": "cf73b6ff",
   "metadata": {},
   "outputs": [
    {
     "name": "stdout",
     "output_type": "stream",
     "text": [
      "[[60  1]\n",
      " [ 4 15]]\n"
     ]
    }
   ],
   "source": [
    "from sklearn.metrics import confusion_matrix\n",
    "\n",
    "print(confusion_matrix(y_test, y_pred_svm))"
   ]
  },
  {
   "cell_type": "markdown",
   "id": "c0d48080",
   "metadata": {},
   "source": [
    "# ROC curve of SVC"
   ]
  },
  {
   "cell_type": "code",
   "execution_count": 110,
   "id": "fce82d3d",
   "metadata": {},
   "outputs": [
    {
     "data": {
      "image/png": "[encoded data removed]",
      "text/plain": [
       "<Figure size 432x288 with 1 Axes>"
      ]
     },
     "metadata": {
      "needs_background": "light"
     },
     "output_type": "display_data"
    }
   ],
   "source": [
    "from sklearn import metrics\n",
    "metrics.plot_roc_curve(svm, x_test, y_test)\n",
    "plt.show()"
   ]
  },
  {
   "cell_type": "markdown",
   "id": "c6fc10a9",
   "metadata": {},
   "source": [
    "# RandomForestClassifier"
   ]
  },
  {
   "cell_type": "code",
   "execution_count": 111,
   "id": "50c6af55",
   "metadata": {},
   "outputs": [
    {
     "name": "stdout",
     "output_type": "stream",
     "text": [
      "score:  0.95\n"
     ]
    }
   ],
   "source": [
    "from sklearn.ensemble import RandomForestClassifier\n",
    "RFC=RandomForestClassifier()\n",
    "RFC.fit(x_train,y_train)\n",
    "y_pred_RFC = RFC.predict(x_test)\n",
    "print(\"score: \", RFC.score(x_test,y_test))"
   ]
  },
  {
   "cell_type": "code",
   "execution_count": 112,
   "id": "2c9b70af",
   "metadata": {},
   "outputs": [
    {
     "name": "stdout",
     "output_type": "stream",
     "text": [
      "precision_score:  0.8947368421052632\n",
      "recall_score:  0.8947368421052632\n",
      "f1_score:  0.8947368421052632\n"
     ]
    }
   ],
   "source": [
    "from sklearn.metrics import precision_score, recall_score\n",
    "print(\"precision_score: \", precision_score(y_test, y_pred_RFC))\n",
    "print(\"recall_score: \", recall_score(y_test,y_pred_RFC))\n",
    "\n",
    "from sklearn.metrics import f1_score\n",
    "print(\"f1_score: \",f1_score(y_test, y_pred_RFC))"
   ]
  },
  {
   "cell_type": "code",
   "execution_count": 113,
   "id": "9dc95538",
   "metadata": {},
   "outputs": [
    {
     "name": "stdout",
     "output_type": "stream",
     "text": [
      "[[59  2]\n",
      " [ 2 17]]\n"
     ]
    }
   ],
   "source": [
    "from sklearn.metrics import confusion_matrix\n",
    "print(confusion_matrix(y_test, y_pred_RFC))"
   ]
  },
  {
   "cell_type": "markdown",
   "id": "413d6115",
   "metadata": {},
   "source": [
    "# ROC curve of Random forest classifier"
   ]
  },
  {
   "cell_type": "code",
   "execution_count": 114,
   "id": "0d764450",
   "metadata": {},
   "outputs": [
    {
     "data": {
      "image/png": "[encoded data removed]",
      "text/plain": [
       "<Figure size 432x288 with 1 Axes>"
      ]
     },
     "metadata": {
      "needs_background": "light"
     },
     "output_type": "display_data"
    }
   ],
   "source": [
    "from sklearn import metrics\n",
    "metrics.plot_roc_curve(RFC, x_test, y_test)\n",
    "plt.show()"
   ]
  },
  {
   "cell_type": "markdown",
   "id": "b57ce0b0",
   "metadata": {},
   "source": [
    "# Naive Bayes Classifiers"
   ]
  },
  {
   "cell_type": "code",
   "execution_count": 115,
   "id": "ed27a163",
   "metadata": {},
   "outputs": [
    {
     "name": "stdout",
     "output_type": "stream",
     "text": [
      "Gaussian Naive Bayes model accuracy: 0.9375\n"
     ]
    }
   ],
   "source": [
    "from sklearn.naive_bayes import GaussianNB\n",
    "gnb = GaussianNB()\n",
    "gnb.fit(x_train, y_train)\n",
    "y_pred_gnb = gnb.predict(x_test)\n",
    "from sklearn import metrics\n",
    "print(\"Gaussian Naive Bayes model accuracy:\",metrics.accuracy_score(y_test, y_pred_gnb))"
   ]
  },
  {
   "cell_type": "code",
   "execution_count": 116,
   "id": "a71970a1",
   "metadata": {},
   "outputs": [
    {
     "name": "stdout",
     "output_type": "stream",
     "text": [
      "precision_score:  0.9375\n",
      "recall_score:  0.7894736842105263\n",
      "f1_score:  0.8571428571428572\n"
     ]
    }
   ],
   "source": [
    "from sklearn.metrics import precision_score, recall_score\n",
    "print(\"precision_score: \", precision_score(y_test, y_pred_gnb))\n",
    "print(\"recall_score: \", recall_score(y_test,y_pred_gnb))\n",
    "\n",
    "from sklearn.metrics import f1_score\n",
    "print(\"f1_score: \",f1_score(y_test, y_pred_gnb))"
   ]
  },
  {
   "cell_type": "code",
   "execution_count": 117,
   "id": "b7fd18aa",
   "metadata": {},
   "outputs": [
    {
     "name": "stdout",
     "output_type": "stream",
     "text": [
      "[[60  1]\n",
      " [ 4 15]]\n"
     ]
    }
   ],
   "source": [
    "from sklearn.metrics import confusion_matrix\n",
    "print(confusion_matrix(y_test,  y_pred_gnb))"
   ]
  },
  {
   "cell_type": "markdown",
   "id": "b070c697",
   "metadata": {},
   "source": [
    "# ROC curve of  Naive Bayes Classifiers"
   ]
  },
  {
   "cell_type": "code",
   "execution_count": 118,
   "id": "1962dcc9",
   "metadata": {},
   "outputs": [
    {
     "data": {
      "image/png": "[encoded data removed]",
      "text/plain": [
       "<Figure size 432x288 with 1 Axes>"
      ]
     },
     "metadata": {
      "needs_background": "light"
     },
     "output_type": "display_data"
    }
   ],
   "source": [
    "from sklearn import metrics\n",
    "metrics.plot_roc_curve(gnb, x_test, y_test)\n",
    "plt.show()"
   ]
  },
  {
   "cell_type": "markdown",
   "id": "12ea021a",
   "metadata": {},
   "source": [
    "# KNeighborsClassifier"
   ]
  },
  {
   "cell_type": "code",
   "execution_count": 119,
   "id": "1d5af59c",
   "metadata": {},
   "outputs": [
    {
     "name": "stdout",
     "output_type": "stream",
     "text": [
      "KNN model accuracy: 0.925\n"
     ]
    }
   ],
   "source": [
    "from sklearn.neighbors import KNeighborsClassifier\n",
    "knn = KNeighborsClassifier(n_neighbors=7)\n",
    "knn.fit(x_train, y_train)\n",
    "y_pred_knn = knn.predict(x_test)\n",
    "print(\"KNN model accuracy:\",metrics.accuracy_score(y_test, y_pred_knn))"
   ]
  },
  {
   "cell_type": "code",
   "execution_count": 120,
   "id": "a1286623",
   "metadata": {},
   "outputs": [
    {
     "name": "stdout",
     "output_type": "stream",
     "text": [
      "precision_score:  0.9333333333333333\n",
      "recall_score:  0.7368421052631579\n",
      "f1_score:  0.8235294117647058\n"
     ]
    }
   ],
   "source": [
    "from sklearn.metrics import precision_score, recall_score\n",
    "print(\"precision_score: \", precision_score(y_test, y_pred_knn))\n",
    "print(\"recall_score: \", recall_score(y_test,y_pred_knn))\n",
    "from sklearn.metrics import f1_score\n",
    "print(\"f1_score: \",f1_score(y_test, y_pred_knn))"
   ]
  },
  {
   "cell_type": "code",
   "execution_count": 121,
   "id": "d36b2599",
   "metadata": {},
   "outputs": [
    {
     "name": "stdout",
     "output_type": "stream",
     "text": [
      "[[60  1]\n",
      " [ 5 14]]\n"
     ]
    }
   ],
   "source": [
    "from sklearn.metrics import confusion_matrix\n",
    "print(confusion_matrix(y_test,  y_pred_knn))"
   ]
  },
  {
   "cell_type": "markdown",
   "id": "895f4eed",
   "metadata": {},
   "source": [
    "# ROC curve of KNeighborsClassifier"
   ]
  },
  {
   "cell_type": "code",
   "execution_count": 156,
   "id": "a96de0fc",
   "metadata": {},
   "outputs": [
    {
     "data": {
      "image/png": "[encoded data removed]",
      "text/plain": [
       "<Figure size 432x288 with 1 Axes>"
      ]
     },
     "metadata": {
      "needs_background": "light"
     },
     "output_type": "display_data"
    }
   ],
   "source": [
    "from sklearn import metrics\n",
    "metrics.plot_roc_curve(knn, x_test, y_test)\n",
    "plt.show()"
   ]
  },
  {
   "cell_type": "markdown",
   "id": "456226d5",
   "metadata": {},
   "source": [
    "# Accuracy for different values of K"
   ]
  },
  {
   "cell_type": "code",
   "execution_count": 123,
   "id": "b99c28af",
   "metadata": {
    "scrolled": true
   },
   "outputs": [
    {
     "data": {
      "image/png": "[encoded data removed]",
      "text/plain": [
       "<Figure size 432x288 with 1 Axes>"
      ]
     },
     "metadata": {
      "needs_background": "light"
     },
     "output_type": "display_data"
    }
   ],
   "source": [
    "no_neighbors = np.arange(1, 9)\n",
    "train_accuracy = np.empty(len(no_neighbors))\n",
    "test_accuracy = np.empty(len(no_neighbors))\n",
    "\n",
    "for i, k in enumerate(no_neighbors):\n",
    "    # We instantiate the classifier\n",
    "    knn = KNeighborsClassifier(n_neighbors=k)\n",
    "    # Fit the classifier to the training data\n",
    "    knn.fit(x_train,y_train)\n",
    "    \n",
    "    # Compute accuracy on the training set\n",
    "    train_accuracy[i] = knn.score(x_train, y_train)\n",
    "\n",
    "    # Compute accuracy on the testing set\n",
    "    test_accuracy[i] = knn.score(x_test, y_test)\n",
    "\n",
    "# Visualization of k values vs accuracy\n",
    "\n",
    "plt.title('k-NN: Varying Number of Neighbors')\n",
    "plt.plot(no_neighbors, test_accuracy, label = 'Testing Accuracy')\n",
    "plt.plot(no_neighbors, train_accuracy, label = 'Training Accuracy')\n",
    "plt.legend()\n",
    "plt.xlabel('Number of Neighbors')\n",
    "plt.ylabel('Accuracy')\n",
    "plt.show()"
   ]
  },
  {
   "cell_type": "markdown",
   "id": "03bbf8f0",
   "metadata": {},
   "source": [
    "# k-NN:time taken by Varying Number of K"
   ]
  },
  {
   "cell_type": "code",
   "execution_count": 155,
   "id": "b162848b",
   "metadata": {},
   "outputs": [
    {
     "data": {
      "image/png": "[encoded data removed]",
      "text/plain": [
       "<Figure size 432x288 with 1 Axes>"
      ]
     },
     "metadata": {
      "needs_background": "light"
     },
     "output_type": "display_data"
    }
   ],
   "source": [
    "no_neighbors = [1,10,20,30]\n",
    "time_taken = np.empty(len(no_neighbors))\n",
    "\n",
    "import time\n",
    "for i, k in enumerate(no_neighbors):\n",
    "    start=time.time()\n",
    "    # We instantiate the classifier\n",
    "    knn = KNeighborsClassifier(n_neighbors=k)\n",
    "    # Fit the classifier to the training data\n",
    "    knn.fit(x_train,y_train)\n",
    "    end=time.time()\n",
    "    time_taken[i]=end-start\n",
    "\n",
    "# Visualization of k values vs accuracy\n",
    "\n",
    "plt.title('k-NN:time taken by Varying Number of Neighbors')\n",
    "plt.plot(no_neighbors, time_taken, label = 'Testing time')\n",
    "plt.legend()\n",
    "plt.xlabel('Number of Neighbors')\n",
    "plt.ylabel('time taken')\n",
    "plt.show()"
   ]
  },
  {
   "cell_type": "markdown",
   "id": "aaccf211",
   "metadata": {},
   "source": [
    "# CROSS VALIDATION SCORES"
   ]
  },
  {
   "cell_type": "code",
   "execution_count": 125,
   "id": "72fbfe16",
   "metadata": {},
   "outputs": [],
   "source": [
    "from sklearn.model_selection import cross_val_score"
   ]
  },
  {
   "cell_type": "code",
   "execution_count": 157,
   "id": "a07dec1f",
   "metadata": {},
   "outputs": [
    {
     "data": {
      "text/plain": [
       "array([0.921875, 0.890625, 0.984375, 0.921875, 0.9375  ])"
      ]
     },
     "execution_count": 157,
     "metadata": {},
     "output_type": "execute_result"
    }
   ],
   "source": [
    "cross_val_score(LogisticRegression(),x_train,y_train)#average=0.93125"
   ]
  },
  {
   "cell_type": "code",
   "execution_count": 158,
   "id": "de7238c1",
   "metadata": {},
   "outputs": [
    {
     "data": {
      "text/plain": [
       "array([0.921875, 0.890625, 0.984375, 0.921875, 0.921875])"
      ]
     },
     "execution_count": 158,
     "metadata": {},
     "output_type": "execute_result"
    }
   ],
   "source": [
    "cross_val_score(SVC(),x_train,y_train)#average=0.928125"
   ]
  },
  {
   "cell_type": "code",
   "execution_count": 159,
   "id": "b55d2fa1",
   "metadata": {},
   "outputs": [
    {
     "data": {
      "text/plain": [
       "array([0.921875, 0.890625, 1.      , 0.9375  , 0.96875 ])"
      ]
     },
     "execution_count": 159,
     "metadata": {},
     "output_type": "execute_result"
    }
   ],
   "source": [
    "cross_val_score(RandomForestClassifier(),x_train,y_train)#average=0.946875"
   ]
  },
  {
   "cell_type": "code",
   "execution_count": 160,
   "id": "6511612a",
   "metadata": {
    "scrolled": true
   },
   "outputs": [
    {
     "data": {
      "text/plain": [
       "array([0.921875, 0.890625, 0.9375  , 0.875   , 0.9375  ])"
      ]
     },
     "execution_count": 160,
     "metadata": {},
     "output_type": "execute_result"
    }
   ],
   "source": [
    "cross_val_score(GaussianNB(),x_train,y_train)#average="
   ]
  },
  {
   "cell_type": "code",
   "execution_count": 161,
   "id": "3f5624f8",
   "metadata": {},
   "outputs": [
    {
     "data": {
      "text/plain": [
       "array([0.9375  , 0.921875, 0.96875 , 0.921875, 0.90625 ])"
      ]
     },
     "execution_count": 161,
     "metadata": {},
     "output_type": "execute_result"
    }
   ],
   "source": [
    "cross_val_score(KNeighborsClassifier(),x_train,y_train)#average="
   ]
  },
  {
   "cell_type": "markdown",
   "id": "49bd617b",
   "metadata": {},
   "source": [
    "# accuracy comparison of various algorithms"
   ]
  },
  {
   "cell_type": "code",
   "execution_count": 162,
   "id": "e0c91673",
   "metadata": {},
   "outputs": [
    {
     "name": "stderr",
     "output_type": "stream",
     "text": [
      "No artists with labels found to put in legend.  Note that artists whose label start with an underscore are ignored when legend() is called with no argument.\n"
     ]
    },
    {
     "data": {
      "image/png": "[encoded data removed]",
      "text/plain": [
       "<Figure size 432x288 with 1 Axes>"
      ]
     },
     "metadata": {
      "needs_background": "light"
     },
     "output_type": "display_data"
    }
   ],
   "source": [
    "models=['RandomForest','knn','svc','logistic_regression','naive_bayes']\n",
    "accuracy=[metrics.accuracy_score(y_test, y_pred_RFC),metrics.accuracy_score(y_test, y_pred_knn),metrics.accuracy_score(y_test, y_pred_svm), metrics.accuracy_score(y_test,y_logistic_pred),metrics.accuracy_score(y_test,y_pred_gnb)]\n",
    "  \n",
    "plt.title('accuracy comparison of various algorithms')\n",
    "plt.plot(models, accuracy)\n",
    "plt.legend()\n",
    "plt.xlabel('MODELS')\n",
    "plt.ylabel('Accuracy')\n",
    "plt.show()"
   ]
  },
  {
   "cell_type": "markdown",
   "id": "6b312886",
   "metadata": {},
   "source": [
    "# So Random forest classifier is the best model"
   ]
  },
  {
   "cell_type": "markdown",
   "id": "fc60468b",
   "metadata": {},
   "source": [
    "# saving RFC classifier model"
   ]
  },
  {
   "cell_type": "code",
   "execution_count": 163,
   "id": "d1944e6f",
   "metadata": {},
   "outputs": [],
   "source": [
    "import pickle\n",
    "with open(\"./college_predict.pkl\", \"wb\") as f:\n",
    "    pickle.dump(RFC, f)"
   ]
  },
  {
   "cell_type": "code",
   "execution_count": null,
   "id": "d945d4e6",
   "metadata": {},
   "outputs": [],
   "source": []
  }
 ],
 "metadata": {
  "kernelspec": {
   "display_name": "Python 3 (ipykernel)",
   "language": "python",
   "name": "python3"
  },
  "language_info": {
   "codemirror_mode": {
    "name": "ipython",
    "version": 3
   },
   "file_extension": ".py",
   "mimetype": "text/x-python",
   "name": "python",
   "nbconvert_exporter": "python",
   "pygments_lexer": "ipython3",
   "version": "3.9.12"
  },
  "vscode": {
   "interpreter": {
    "hash": "f3136c837a866f980408cfe7c9cbdcd5e598d3ab2791b153a23e523419973b99"
   }
  }
 },
 "nbformat": 4,
 "nbformat_minor": 5
}
