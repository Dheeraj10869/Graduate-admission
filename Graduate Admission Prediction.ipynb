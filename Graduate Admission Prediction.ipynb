{
 "cells": [
  {
   "cell_type": "markdown",
   "id": "3ae917fb",
   "metadata": {},
   "source": [
    "#                               Graduate Admission Prediction\n",
    "\n",
    "\n",
    "#  Submitted By: Group 10\n",
    "\n",
    "# Balasani Dheeraj Redddy AM.EN.U4CSE20115\n",
    "# Vanguru Vekata Varun Kumar Reddy AM.EN.U4CSE20172\n",
    "# Chinthakuntla Purushottam Reddy AM.EN.U4CSE20120\n",
    "# S N V V S Gowtham Tadavarthy AM.EN.U4CSE20160\n",
    "# Joshua Wilson Philip AM.EN.U4CSE20135\n",
    "# Maddipati Umesh Chandra AM.EN.U4CSE20142\n"
   ]
  },
  {
   "cell_type": "markdown",
   "id": "46c233e7",
   "metadata": {},
   "source": [
    "# Import modules"
   ]
  },
  {
   "cell_type": "code",
   "execution_count": 360,
   "id": "98814b44",
   "metadata": {},
   "outputs": [],
   "source": [
    "import pandas as pd\n",
    "import numpy as np\n",
    "import matplotlib.pyplot as plt\n",
    "import seaborn as sns\n",
    "%matplotlib inline"
   ]
  },
  {
   "cell_type": "markdown",
   "id": "8cab6f1b",
   "metadata": {},
   "source": [
    "# Data Summarization"
   ]
  },
  {
   "cell_type": "code",
   "execution_count": 361,
   "id": "d567a0e4",
   "metadata": {},
   "outputs": [
    {
     "data": {
      "text/plain": [
       "(400, 9)"
      ]
     },
     "execution_count": 361,
     "metadata": {},
     "output_type": "execute_result"
    }
   ],
   "source": [
    "data = pd.read_csv(\"Admission_Predict.csv\")\n",
    "data.shape"
   ]
  },
  {
   "cell_type": "code",
   "execution_count": 362,
   "id": "a0137472",
   "metadata": {},
   "outputs": [
    {
     "data": {
      "text/html": [
       "<div>\n",
       "<style scoped>\n",
       "    .dataframe tbody tr th:only-of-type {\n",
       "        vertical-align: middle;\n",
       "    }\n",
       "\n",
       "    .dataframe tbody tr th {\n",
       "        vertical-align: top;\n",
       "    }\n",
       "\n",
       "    .dataframe thead th {\n",
       "        text-align: right;\n",
       "    }\n",
       "</style>\n",
       "<table border=\"1\" class=\"dataframe\">\n",
       "  <thead>\n",
       "    <tr style=\"text-align: right;\">\n",
       "      <th></th>\n",
       "      <th>Serial No.</th>\n",
       "      <th>GRE Score</th>\n",
       "      <th>TOEFL Score</th>\n",
       "      <th>University Rating</th>\n",
       "      <th>SOP</th>\n",
       "      <th>LOR</th>\n",
       "      <th>CGPA</th>\n",
       "      <th>Research</th>\n",
       "      <th>Chance of Admit</th>\n",
       "    </tr>\n",
       "  </thead>\n",
       "  <tbody>\n",
       "    <tr>\n",
       "      <th>0</th>\n",
       "      <td>1</td>\n",
       "      <td>NaN</td>\n",
       "      <td>NaN</td>\n",
       "      <td>4</td>\n",
       "      <td>4.5</td>\n",
       "      <td>4.5</td>\n",
       "      <td>9.65</td>\n",
       "      <td>1</td>\n",
       "      <td>0.92</td>\n",
       "    </tr>\n",
       "    <tr>\n",
       "      <th>1</th>\n",
       "      <td>2</td>\n",
       "      <td>312.0</td>\n",
       "      <td>107.0</td>\n",
       "      <td>4</td>\n",
       "      <td>4.0</td>\n",
       "      <td>4.5</td>\n",
       "      <td>8.87</td>\n",
       "      <td>1</td>\n",
       "      <td>0.76</td>\n",
       "    </tr>\n",
       "  </tbody>\n",
       "</table>\n",
       "</div>"
      ],
      "text/plain": [
       "   Serial No.  GRE Score  TOEFL Score  University Rating  SOP  LOR   CGPA  \\\n",
       "0           1        NaN          NaN                  4  4.5   4.5  9.65   \n",
       "1           2      312.0        107.0                  4  4.0   4.5  8.87   \n",
       "\n",
       "   Research  Chance of Admit   \n",
       "0         1              0.92  \n",
       "1         1              0.76  "
      ]
     },
     "execution_count": 362,
     "metadata": {},
     "output_type": "execute_result"
    }
   ],
   "source": [
    "data.head(2)"
   ]
  },
  {
   "cell_type": "code",
   "execution_count": 363,
   "id": "538faabf",
   "metadata": {},
   "outputs": [
    {
     "name": "stdout",
     "output_type": "stream",
     "text": [
      "<class 'pandas.core.frame.DataFrame'>\n",
      "RangeIndex: 400 entries, 0 to 399\n",
      "Data columns (total 9 columns):\n",
      " #   Column             Non-Null Count  Dtype  \n",
      "---  ------             --------------  -----  \n",
      " 0   Serial No.         400 non-null    int64  \n",
      " 1   GRE Score          399 non-null    float64\n",
      " 2   TOEFL Score        399 non-null    float64\n",
      " 3   University Rating  400 non-null    int64  \n",
      " 4   SOP                400 non-null    float64\n",
      " 5   LOR                400 non-null    float64\n",
      " 6   CGPA               400 non-null    float64\n",
      " 7   Research           400 non-null    int64  \n",
      " 8   Chance of Admit    400 non-null    float64\n",
      "dtypes: float64(6), int64(3)\n",
      "memory usage: 28.2 KB\n"
     ]
    }
   ],
   "source": [
    "data.info()"
   ]
  },
  {
   "cell_type": "code",
   "execution_count": 364,
   "id": "15cd9d82",
   "metadata": {},
   "outputs": [
    {
     "data": {
      "text/html": [
       "<div>\n",
       "<style scoped>\n",
       "    .dataframe tbody tr th:only-of-type {\n",
       "        vertical-align: middle;\n",
       "    }\n",
       "\n",
       "    .dataframe tbody tr th {\n",
       "        vertical-align: top;\n",
       "    }\n",
       "\n",
       "    .dataframe thead th {\n",
       "        text-align: right;\n",
       "    }\n",
       "</style>\n",
       "<table border=\"1\" class=\"dataframe\">\n",
       "  <thead>\n",
       "    <tr style=\"text-align: right;\">\n",
       "      <th></th>\n",
       "      <th>Serial No.</th>\n",
       "      <th>GRE Score</th>\n",
       "      <th>TOEFL Score</th>\n",
       "      <th>University Rating</th>\n",
       "      <th>SOP</th>\n",
       "      <th>LOR</th>\n",
       "      <th>CGPA</th>\n",
       "      <th>Research</th>\n",
       "      <th>Chance of Admit</th>\n",
       "    </tr>\n",
       "  </thead>\n",
       "  <tbody>\n",
       "    <tr>\n",
       "      <th>count</th>\n",
       "      <td>400.000000</td>\n",
       "      <td>399.000000</td>\n",
       "      <td>399.000000</td>\n",
       "      <td>400.000000</td>\n",
       "      <td>400.000000</td>\n",
       "      <td>400.000000</td>\n",
       "      <td>400.000000</td>\n",
       "      <td>400.000000</td>\n",
       "      <td>400.000000</td>\n",
       "    </tr>\n",
       "    <tr>\n",
       "      <th>mean</th>\n",
       "      <td>200.500000</td>\n",
       "      <td>316.619048</td>\n",
       "      <td>107.383459</td>\n",
       "      <td>3.087500</td>\n",
       "      <td>3.400000</td>\n",
       "      <td>3.452500</td>\n",
       "      <td>8.598925</td>\n",
       "      <td>0.547500</td>\n",
       "      <td>0.724350</td>\n",
       "    </tr>\n",
       "    <tr>\n",
       "      <th>std</th>\n",
       "      <td>115.614301</td>\n",
       "      <td>11.391182</td>\n",
       "      <td>6.053848</td>\n",
       "      <td>1.143728</td>\n",
       "      <td>1.006869</td>\n",
       "      <td>0.898478</td>\n",
       "      <td>0.597325</td>\n",
       "      <td>0.498362</td>\n",
       "      <td>0.142609</td>\n",
       "    </tr>\n",
       "    <tr>\n",
       "      <th>min</th>\n",
       "      <td>1.000000</td>\n",
       "      <td>290.000000</td>\n",
       "      <td>92.000000</td>\n",
       "      <td>1.000000</td>\n",
       "      <td>1.000000</td>\n",
       "      <td>1.000000</td>\n",
       "      <td>6.800000</td>\n",
       "      <td>0.000000</td>\n",
       "      <td>0.340000</td>\n",
       "    </tr>\n",
       "    <tr>\n",
       "      <th>25%</th>\n",
       "      <td>100.750000</td>\n",
       "      <td>308.000000</td>\n",
       "      <td>103.000000</td>\n",
       "      <td>2.000000</td>\n",
       "      <td>2.500000</td>\n",
       "      <td>3.000000</td>\n",
       "      <td>8.167500</td>\n",
       "      <td>0.000000</td>\n",
       "      <td>0.640000</td>\n",
       "    </tr>\n",
       "    <tr>\n",
       "      <th>50%</th>\n",
       "      <td>200.500000</td>\n",
       "      <td>317.000000</td>\n",
       "      <td>107.000000</td>\n",
       "      <td>3.000000</td>\n",
       "      <td>3.500000</td>\n",
       "      <td>3.500000</td>\n",
       "      <td>8.610000</td>\n",
       "      <td>1.000000</td>\n",
       "      <td>0.730000</td>\n",
       "    </tr>\n",
       "    <tr>\n",
       "      <th>75%</th>\n",
       "      <td>300.250000</td>\n",
       "      <td>325.000000</td>\n",
       "      <td>112.000000</td>\n",
       "      <td>4.000000</td>\n",
       "      <td>4.000000</td>\n",
       "      <td>4.000000</td>\n",
       "      <td>9.072500</td>\n",
       "      <td>1.000000</td>\n",
       "      <td>0.830000</td>\n",
       "    </tr>\n",
       "    <tr>\n",
       "      <th>max</th>\n",
       "      <td>400.000000</td>\n",
       "      <td>340.000000</td>\n",
       "      <td>120.000000</td>\n",
       "      <td>5.000000</td>\n",
       "      <td>5.000000</td>\n",
       "      <td>5.000000</td>\n",
       "      <td>9.920000</td>\n",
       "      <td>1.000000</td>\n",
       "      <td>0.970000</td>\n",
       "    </tr>\n",
       "  </tbody>\n",
       "</table>\n",
       "</div>"
      ],
      "text/plain": [
       "       Serial No.   GRE Score  TOEFL Score  University Rating         SOP  \\\n",
       "count  400.000000  399.000000   399.000000         400.000000  400.000000   \n",
       "mean   200.500000  316.619048   107.383459           3.087500    3.400000   \n",
       "std    115.614301   11.391182     6.053848           1.143728    1.006869   \n",
       "min      1.000000  290.000000    92.000000           1.000000    1.000000   \n",
       "25%    100.750000  308.000000   103.000000           2.000000    2.500000   \n",
       "50%    200.500000  317.000000   107.000000           3.000000    3.500000   \n",
       "75%    300.250000  325.000000   112.000000           4.000000    4.000000   \n",
       "max    400.000000  340.000000   120.000000           5.000000    5.000000   \n",
       "\n",
       "             LOR         CGPA    Research  Chance of Admit   \n",
       "count  400.000000  400.000000  400.000000        400.000000  \n",
       "mean     3.452500    8.598925    0.547500          0.724350  \n",
       "std      0.898478    0.597325    0.498362          0.142609  \n",
       "min      1.000000    6.800000    0.000000          0.340000  \n",
       "25%      3.000000    8.167500    0.000000          0.640000  \n",
       "50%      3.500000    8.610000    1.000000          0.730000  \n",
       "75%      4.000000    9.072500    1.000000          0.830000  \n",
       "max      5.000000    9.920000    1.000000          0.970000  "
      ]
     },
     "execution_count": 364,
     "metadata": {},
     "output_type": "execute_result"
    }
   ],
   "source": [
    "data.describe()"
   ]
  },
  {
   "cell_type": "code",
   "execution_count": 365,
   "id": "3b3be5ec",
   "metadata": {},
   "outputs": [
    {
     "data": {
      "text/plain": [
       "Serial No.           0\n",
       "GRE Score            1\n",
       "TOEFL Score          1\n",
       "University Rating    0\n",
       "SOP                  0\n",
       "LOR                  0\n",
       "CGPA                 0\n",
       "Research             0\n",
       "Chance of Admit      0\n",
       "dtype: int64"
      ]
     },
     "execution_count": 365,
     "metadata": {},
     "output_type": "execute_result"
    }
   ],
   "source": [
    "data.isnull().sum()"
   ]
  },
  {
   "cell_type": "code",
   "execution_count": 366,
   "id": "e9163faf",
   "metadata": {},
   "outputs": [],
   "source": [
    "data.drop('Serial No.', axis=1, inplace=True)"
   ]
  },
  {
   "cell_type": "code",
   "execution_count": 367,
   "id": "57a4626c",
   "metadata": {},
   "outputs": [],
   "source": [
    "data.rename({'Chance of Admit ': 'Chance of Admit', 'LOR ':'LOR'}, axis=1, inplace=True)"
   ]
  },
  {
   "cell_type": "markdown",
   "id": "d2e2453a",
   "metadata": {},
   "source": [
    "# Data Pre-processing\n"
   ]
  },
  {
   "cell_type": "code",
   "execution_count": 368,
   "id": "d34b8dba",
   "metadata": {},
   "outputs": [],
   "source": [
    "X = data.iloc[:,:-1].values \n",
    "Y = data.iloc[:,7:].values  "
   ]
  },
  {
   "cell_type": "code",
   "execution_count": 369,
   "id": "f3e27029",
   "metadata": {},
   "outputs": [
    {
     "name": "stdout",
     "output_type": "stream",
     "text": [
      "[[   nan    nan   4.   ...   4.5    9.65   1.  ]\n",
      " [312.   107.     4.   ...   4.5    8.87   1.  ]\n",
      " [316.   104.     3.   ...   3.5    8.     1.  ]\n",
      " ...\n",
      " [330.   116.     4.   ...   4.5    9.45   1.  ]\n",
      " [312.   103.     3.   ...   4.     8.78   0.  ]\n",
      " [321.   117.     4.   ...   4.     9.66   1.  ]]\n"
     ]
    }
   ],
   "source": [
    "print(X[:,:])"
   ]
  },
  {
   "cell_type": "markdown",
   "id": "b9e6e4f4",
   "metadata": {},
   "source": [
    "# standardization"
   ]
  },
  {
   "cell_type": "code",
   "execution_count": 370,
   "id": "12548321",
   "metadata": {},
   "outputs": [],
   "source": [
    "from sklearn.preprocessing import StandardScaler  \n",
    "st_x= StandardScaler()  \n",
    "X[:,:3]= st_x.fit_transform(X[:,:3])  "
   ]
  },
  {
   "cell_type": "code",
   "execution_count": 371,
   "id": "d84782ba",
   "metadata": {},
   "outputs": [
    {
     "name": "stdout",
     "output_type": "stream",
     "text": [
      "[[        nan         nan  0.79882862 ...  4.5         9.65\n",
      "   1.        ]\n",
      " [-0.40600235 -0.06342083  0.79882862 ...  4.5         8.87\n",
      "   1.        ]\n",
      " [-0.05441269 -0.5595956  -0.07660001 ...  3.5         8.\n",
      "   1.        ]\n",
      " ...\n",
      " [ 1.17615115  1.42510346  0.79882862 ...  4.5         9.45\n",
      "   1.        ]\n",
      " [-0.40600235 -0.72498719 -0.07660001 ...  4.          8.78\n",
      "   0.        ]\n",
      " [ 0.3850744   1.59049505  0.79882862 ...  4.          9.66\n",
      "   1.        ]]\n"
     ]
    }
   ],
   "source": [
    "print(X)"
   ]
  },
  {
   "cell_type": "markdown",
   "id": "e289fb36",
   "metadata": {},
   "source": [
    "# MinMax Scaler"
   ]
  },
  {
   "cell_type": "code",
   "execution_count": 372,
   "id": "53106043",
   "metadata": {},
   "outputs": [
    {
     "name": "stdout",
     "output_type": "stream",
     "text": [
      "[[       nan        nan 0.75      ]\n",
      " [0.44       0.53571429 0.75      ]\n",
      " [0.52       0.42857143 0.5       ]\n",
      " ...\n",
      " [0.8        0.85714286 0.75      ]\n",
      " [0.44       0.39285714 0.5       ]\n",
      " [0.62       0.89285714 0.75      ]]\n"
     ]
    }
   ],
   "source": [
    "from sklearn.preprocessing import MinMaxScaler\n",
    "scaler = MinMaxScaler()\n",
    "X[:,0:3]= scaler.fit_transform(X[:,0:3])\n",
    "print(X[:,0:3])"
   ]
  },
  {
   "cell_type": "markdown",
   "id": "741d3820",
   "metadata": {},
   "source": [
    "# Filling misssing values with mode"
   ]
  },
  {
   "cell_type": "code",
   "execution_count": 373,
   "id": "771cc730",
   "metadata": {},
   "outputs": [
    {
     "name": "stdout",
     "output_type": "stream",
     "text": [
      "[0.44       0.64285714 0.75      ]\n"
     ]
    }
   ],
   "source": [
    "from sklearn.impute import SimpleImputer\n",
    "imputer = SimpleImputer(strategy='most_frequent')\n",
    "imputer.fit(X[:, :3])\n",
    "X[:, :3]= imputer.transform(X[:,:3]) \n",
    "print(X[0, :3])"
   ]
  },
  {
   "cell_type": "markdown",
   "id": "654803e3",
   "metadata": {},
   "source": [
    "# Data Visualization:"
   ]
  },
  {
   "cell_type": "code",
   "execution_count": 374,
   "id": "efcf0b1a",
   "metadata": {},
   "outputs": [
    {
     "data": {
      "text/plain": [
       "array([[<AxesSubplot:title={'center':'GRE Score'}>,\n",
       "        <AxesSubplot:title={'center':'TOEFL Score'}>,\n",
       "        <AxesSubplot:title={'center':'University Rating'}>],\n",
       "       [<AxesSubplot:title={'center':'SOP'}>,\n",
       "        <AxesSubplot:title={'center':'LOR'}>,\n",
       "        <AxesSubplot:title={'center':'CGPA'}>],\n",
       "       [<AxesSubplot:title={'center':'Research'}>,\n",
       "        <AxesSubplot:title={'center':'Chance of Admit'}>, <AxesSubplot:>]],\n",
       "      dtype=object)"
      ]
     },
     "execution_count": 374,
     "metadata": {},
     "output_type": "execute_result"
    },
    {
     "data": {
      "image/png": "[encoded data removed]",
      "text/plain": [
       "<Figure size 432x288 with 9 Axes>"
      ]
     },
     "metadata": {
      "needs_background": "light"
     },
     "output_type": "display_data"
    }
   ],
   "source": [
    "import matplotlib.pyplot as plt\n",
    "data.hist()\n"
   ]
  },
  {
   "cell_type": "code",
   "execution_count": 375,
   "id": "28baacfa",
   "metadata": {},
   "outputs": [
    {
     "data": {
      "text/html": [
       "<div>\n",
       "<style scoped>\n",
       "    .dataframe tbody tr th:only-of-type {\n",
       "        vertical-align: middle;\n",
       "    }\n",
       "\n",
       "    .dataframe tbody tr th {\n",
       "        vertical-align: top;\n",
       "    }\n",
       "\n",
       "    .dataframe thead th {\n",
       "        text-align: right;\n",
       "    }\n",
       "</style>\n",
       "<table border=\"1\" class=\"dataframe\">\n",
       "  <thead>\n",
       "    <tr style=\"text-align: right;\">\n",
       "      <th></th>\n",
       "      <th>GRE Score</th>\n",
       "    </tr>\n",
       "  </thead>\n",
       "  <tbody>\n",
       "    <tr>\n",
       "      <th>count</th>\n",
       "      <td>399.000000</td>\n",
       "    </tr>\n",
       "    <tr>\n",
       "      <th>mean</th>\n",
       "      <td>316.619048</td>\n",
       "    </tr>\n",
       "    <tr>\n",
       "      <th>std</th>\n",
       "      <td>11.391182</td>\n",
       "    </tr>\n",
       "    <tr>\n",
       "      <th>min</th>\n",
       "      <td>290.000000</td>\n",
       "    </tr>\n",
       "    <tr>\n",
       "      <th>25%</th>\n",
       "      <td>308.000000</td>\n",
       "    </tr>\n",
       "    <tr>\n",
       "      <th>50%</th>\n",
       "      <td>317.000000</td>\n",
       "    </tr>\n",
       "    <tr>\n",
       "      <th>75%</th>\n",
       "      <td>325.000000</td>\n",
       "    </tr>\n",
       "    <tr>\n",
       "      <th>max</th>\n",
       "      <td>340.000000</td>\n",
       "    </tr>\n",
       "  </tbody>\n",
       "</table>\n",
       "</div>"
      ],
      "text/plain": [
       "        GRE Score\n",
       "count  399.000000\n",
       "mean   316.619048\n",
       "std     11.391182\n",
       "min    290.000000\n",
       "25%    308.000000\n",
       "50%    317.000000\n",
       "75%    325.000000\n",
       "max    340.000000"
      ]
     },
     "execution_count": 375,
     "metadata": {},
     "output_type": "execute_result"
    }
   ],
   "source": [
    "GRE = pd.DataFrame(data['GRE Score'])\n",
    "GRE.describe()"
   ]
  },
  {
   "cell_type": "code",
   "execution_count": 384,
   "id": "0ffe73ef",
   "metadata": {},
   "outputs": [
    {
     "data": {
      "image/png": "[encoded data removed]",
      "text/plain": [
       "<Figure size 432x288 with 1 Axes>"
      ]
     },
     "metadata": {
      "needs_background": "light"
     },
     "output_type": "display_data"
    }
   ],
   "source": [
    "plt.bar(X[:,5], Y[:,0],color = \"pink\")\n",
    "plt.title(\"CGPA VS Chance of Admission\")\n",
    "plt.xlabel(\"CGPA\")\n",
    "plt.ylabel(\"Chance of Admission\")\n",
    "plt.show()"
   ]
  },
  {
   "cell_type": "code",
   "execution_count": 377,
   "id": "199b133c",
   "metadata": {},
   "outputs": [
    {
     "name": "stdout",
     "output_type": "stream",
     "text": [
      "[[0.44       0.64285714 0.75       ... 4.5        9.65       1.        ]\n",
      " [0.44       0.53571429 0.75       ... 4.5        8.87       1.        ]\n",
      " [0.52       0.42857143 0.5        ... 3.5        8.         1.        ]\n",
      " ...\n",
      " [0.8        0.85714286 0.75       ... 4.5        9.45       1.        ]\n",
      " [0.44       0.39285714 0.5        ... 4.         8.78       0.        ]\n",
      " [0.62       0.89285714 0.75       ... 4.         9.66       1.        ]]\n"
     ]
    }
   ],
   "source": [
    "print(X)"
   ]
  },
  {
   "cell_type": "code",
   "execution_count": 378,
   "id": "c3b420ac",
   "metadata": {},
   "outputs": [
    {
     "data": {
      "image/png": "[encoded data removed]",
      "text/plain": [
       "<Figure size 432x288 with 1 Axes>"
      ]
     },
     "metadata": {
      "needs_background": "light"
     },
     "output_type": "display_data"
    }
   ],
   "source": [
    "plt.scatter(X[:,0], Y)\n",
    "plt.title(\"GRE VS Chance of Admission\")\n",
    "plt.xlabel(\"GRE\")\n",
    "plt.ylabel(\"Chance of Admission\")\n",
    "plt.show()"
   ]
  },
  {
   "cell_type": "code",
   "execution_count": 379,
   "id": "f4cf3518",
   "metadata": {},
   "outputs": [
    {
     "data": {
      "image/png": "[encoded data removed]",
      "text/plain": [
       "<Figure size 432x288 with 1 Axes>"
      ]
     },
     "metadata": {
      "needs_background": "light"
     },
     "output_type": "display_data"
    }
   ],
   "source": [
    "plt.scatter(X[:,1], Y)\n",
    "plt.title(\"TOFEL VS Chance of Admission\")\n",
    "plt.xlabel(\"TOFEL\")\n",
    "plt.ylabel(\"Chance of Admission\")\n",
    "plt.show()"
   ]
  },
  {
   "cell_type": "code",
   "execution_count": 380,
   "id": "d753fc70",
   "metadata": {},
   "outputs": [
    {
     "data": {
      "image/png": "[encoded data removed]",
      "text/plain": [
       "<Figure size 432x288 with 1 Axes>"
      ]
     },
     "metadata": {
      "needs_background": "light"
     },
     "output_type": "display_data"
    }
   ],
   "source": [
    "plt.boxplot(X[:,:])\n",
    "plt.title('Ranges of coloumns',fontsize=15)\n",
    "plt.xlabel(\"coloumns\")\n",
    "plt.ylabel(\"ranges after standardization\")\n",
    "plt.show()"
   ]
  },
  {
   "cell_type": "code",
   "execution_count": 381,
   "id": "11834000",
   "metadata": {},
   "outputs": [
    {
     "data": {
      "image/png": "[encoded data removed]",
      "text/plain": [
       "<Figure size 432x288 with 1 Axes>"
      ]
     },
     "metadata": {},
     "output_type": "display_data"
    }
   ],
   "source": [
    "data['Research'].value_counts().plot(kind='pie',textprops={'color':'black'},autopct='%.2f',cmap='cool')\n",
    "plt.title('No of students done research',fontsize=15)\n",
    "plt.legend(['RESEARCH','NO RESEARCH'])\n",
    "plt.show()"
   ]
  },
  {
   "cell_type": "code",
   "execution_count": 382,
   "id": "39331a58",
   "metadata": {},
   "outputs": [
    {
     "name": "stderr",
     "output_type": "stream",
     "text": [
      "C:\\Users\\dheer\\anaconda3\\lib\\site-packages\\seaborn\\_decorators.py:36: FutureWarning: Pass the following variables as keyword args: x, y. From version 0.12, the only valid positional argument will be `data`, and passing other arguments without an explicit keyword will result in an error or misinterpretation.\n",
      "  warnings.warn(\n"
     ]
    },
    {
     "data": {
      "image/png": "[encoded data removed]",
      "text/plain": [
       "<Figure size 432x288 with 1 Axes>"
      ]
     },
     "metadata": {
      "needs_background": "light"
     },
     "output_type": "display_data"
    }
   ],
   "source": [
    "LOR = pd.DataFrame(data.groupby(['LOR']).count()['GRE Score'])\n",
    "LOR.rename({'GRE Score':'Count'}, axis=1, inplace=True)\n",
    "sns.barplot(LOR.index, LOR['Count']).set_title('Letter of Recommendation', size='20')\n",
    "plt.show()"
   ]
  },
  {
   "cell_type": "markdown",
   "id": "b4374835",
   "metadata": {},
   "source": [
    "# creating new cleaned file"
   ]
  },
  {
   "cell_type": "code",
   "execution_count": 386,
   "id": "b0e7822e",
   "metadata": {},
   "outputs": [
    {
     "name": "stdout",
     "output_type": "stream",
     "text": [
      "GRE Score            0\n",
      "TOEFL Score          0\n",
      "University Rating    0\n",
      "SOP                  0\n",
      "LOR                  0\n",
      "CGPA                 0\n",
      "Research             0\n",
      "Chance of Admit      0\n",
      "dtype: int64\n"
     ]
    }
   ],
   "source": [
    "arr = np.append(X, Y, axis=1)\n",
    "col = ['GRE Score','TOEFL Score','University Rating','SOP','LOR','CGPA','Research','Chance of Admit ']\n",
    "newdf = pd.DataFrame(arr, columns=col)\n",
    "print(newdf.isnull().sum())\n",
    "newdf.to_csv('cleaned.csv')"
   ]
  },
  {
   "cell_type": "code",
   "execution_count": null,
   "id": "4d60eaf9",
   "metadata": {},
   "outputs": [],
   "source": []
  }
 ],
 "metadata": {
  "kernelspec": {
   "display_name": "Python 3 (ipykernel)",
   "language": "python",
   "name": "python3"
  },
  "language_info": {
   "codemirror_mode": {
    "name": "ipython",
    "version": 3
   },
   "file_extension": ".py",
   "mimetype": "text/x-python",
   "name": "python",
   "nbconvert_exporter": "python",
   "pygments_lexer": "ipython3",
   "version": "3.9.12"
  }
 },
 "nbformat": 4,
 "nbformat_minor": 5
}
